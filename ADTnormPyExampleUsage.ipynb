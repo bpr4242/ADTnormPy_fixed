{
 "cells": [
  {
   "cell_type": "code",
   "execution_count": 2,
   "id": "83055fea-4e75-45eb-881e-865afd22c66f",
   "metadata": {},
   "outputs": [],
   "source": [
    "import os\n",
    "conda_envir_loc = '/home/ubuntu/miniconda3/envs/ADTnormPy'\n",
    "os.environ[\"R_HOME\"] = conda_envir_loc + \"/lib/R\"\n",
    "import adtnormpy\n",
    "import numpy as np\n",
    "import pandas as pd\n",
    "import anndata\n",
    "import scanpy as sc\n",
    "import seaborn as sns"
   ]
  },
  {
   "cell_type": "markdown",
   "id": "753e1fc0-0b80-4696-8234-3919743191e9",
   "metadata": {},
   "source": [
    "## Load in your data\n",
    "Here, we will load in some example datasets for batch correction. We can input these data into the adtnorm function many different ways, but here we will use a pandas.DataFrame"
   ]
  },
  {
   "cell_type": "code",
   "execution_count": 3,
   "id": "9cdda474-fee4-4cc8-918b-bf50f57fbee5",
   "metadata": {},
   "outputs": [],
   "source": [
    "files = ['pbmc_10k_protein_v3.h5','5k_pbmc_protein_v3.h5','pbmc_1k_protein_v3.h5']\n",
    "cellranger_versions = ['3.0.0','3.0.2','3.0.0']\n",
    "base_url =  f\"http://cf.10xgenomics.com/samples/cell-exp/\"\n",
    "urls = [base_url + f\"{v}/{i[:-3]}/{i[:-3]}_filtered_feature_bc_matrix.h5\" for i,v in zip(files,cellranger_versions)]"
   ]
  },
  {
   "cell_type": "code",
   "execution_count": 4,
   "id": "014d9949-d20b-4142-b3e1-72b1122b8443",
   "metadata": {},
   "outputs": [
    {
     "name": "stderr",
     "output_type": "stream",
     "text": [
      "/home/ubuntu/miniconda3/envs/ADTnormPy/lib/python3.12/site-packages/anndata/_core/anndata.py:1820: UserWarning: Variable names are not unique. To make them unique, call `.var_names_make_unique`.\n",
      "  utils.warn_names_duplicates(\"var\")\n",
      "/home/ubuntu/miniconda3/envs/ADTnormPy/lib/python3.12/site-packages/anndata/_core/anndata.py:1820: UserWarning: Variable names are not unique. To make them unique, call `.var_names_make_unique`.\n",
      "  utils.warn_names_duplicates(\"var\")\n",
      "/home/ubuntu/miniconda3/envs/ADTnormPy/lib/python3.12/site-packages/anndata/_core/anndata.py:1820: UserWarning: Variable names are not unique. To make them unique, call `.var_names_make_unique`.\n",
      "  utils.warn_names_duplicates(\"var\")\n"
     ]
    }
   ],
   "source": [
    "adatas = []\n",
    "for i,file in enumerate(files):\n",
    "    ad = sc.read_10x_h5('data/'+file, backup_url=urls[i], gex_only=False)\n",
    "    ad.var_names_make_unique()\n",
    "    adatas.append(ad)"
   ]
  },
  {
   "cell_type": "code",
   "execution_count": 5,
   "id": "8ddca16d-bda2-47e6-b686-b516d10386a1",
   "metadata": {},
   "outputs": [
    {
     "name": "stderr",
     "output_type": "stream",
     "text": [
      "/home/ubuntu/miniconda3/envs/ADTnormPy/lib/python3.12/site-packages/anndata/_core/anndata.py:1818: UserWarning: Observation names are not unique. To make them unique, call `.obs_names_make_unique`.\n",
      "  utils.warn_names_duplicates(\"obs\")\n"
     ]
    }
   ],
   "source": [
    "adata = anndata.concat(adatas,merge='first',label='sample',keys=files)\n",
    "prot_df = adata[:,adata.var.feature_types == 'Antibody Capture'].to_df()\n",
    "obs = adata.obs"
   ]
  },
  {
   "cell_type": "markdown",
   "id": "4ed9ea2f-dddb-445d-8e04-95450bf8d4e6",
   "metadata": {},
   "source": [
    "## Running ADTnorm"
   ]
  },
  {
   "cell_type": "code",
   "execution_count": 7,
   "id": "b5e89872-c9ec-4df2-91c3-6cfd1eb72ba3",
   "metadata": {
    "tags": []
   },
   "outputs": [
    {
     "name": "stderr",
     "output_type": "stream",
     "text": [
      "/home/ubuntu/miniconda3/envs/ADTnormPy/lib/python3.12/site-packages/rpy2/robjects/pandas2ri.py:56: UserWarning: DataFrame contains duplicated elements in the index, which will lead to loss of the row names in the resulting data.frame\n",
      "  warnings.warn('DataFrame contains duplicated elements in the index, '\n"
     ]
    },
    {
     "name": "stdout",
     "output_type": "stream",
     "text": [
      "[1] \"'batch' column is not provided. It will be set as the same as the 'sample' column.\"\n",
      "[1] \"Will align negative peak to 1 and right-most positive peak to 5.\"\n",
      "[1] \"Note: ADTnorm will process the following ADT markers as provided: CD3\"\n",
      "Progress:  Each dot is a curve\n",
      "...\n"
     ]
    }
   ],
   "source": [
    "adtnorm_df = adtnormpy.adtnorm(prot_df,\n",
    "                         obs = obs,\n",
    "                         sample_column='sample',\n",
    "                         exclude_zeroes=True,\n",
    "                         peak_type='mode',\n",
    "                         save_outpath='ADTnormSave',\n",
    "                         save_landmark=True,\n",
    "                         save_fig=True,\n",
    "                         clean_adt_name=True,\n",
    "                         marker_to_process = 'CD3',\n",
    "                         target_landmark_location=\"fixed\")"
   ]
  },
  {
   "cell_type": "code",
   "execution_count": 8,
   "id": "2040f6ae-2366-4330-83f7-2493b980d54a",
   "metadata": {
    "tags": []
   },
   "outputs": [
    {
     "data": {
      "text/html": [
       "\n",
       "        <span>FloatVector with 2 elements.</span>\n",
       "        <table>\n",
       "        <tbody>\n",
       "          <tr>\n",
       "          \n",
       "            <td>\n",
       "            1.200000\n",
       "            </td>\n",
       "          \n",
       "            <td>\n",
       "            4.000000\n",
       "            </td>\n",
       "          \n",
       "          </tr>\n",
       "        </tbody>\n",
       "        </table>\n",
       "        "
      ],
      "text/plain": [
       "<rpy2.robjects.vectors.FloatVector object at 0x7f550dfe2b10> [14]\n",
       "R classes: ('numeric',)\n",
       "[1.200000, 4.000000]"
      ]
     },
     "execution_count": 8,
     "metadata": {},
     "output_type": "execute_result"
    }
   ],
   "source": [
    "adtnormpy.ADTnormPy._process_kwargs(dict(target_landmark_location=[1.2,4]))['target_landmark_location']"
   ]
  },
  {
   "cell_type": "markdown",
   "id": "1dba4fb2-ccbd-41fa-86e9-b9ce03207af5",
   "metadata": {},
   "source": [
    "First we'll run it through as a dataframe, providing ADT expression as a dataframe and a corresponding metadata dataframe."
   ]
  },
  {
   "cell_type": "code",
   "execution_count": 9,
   "id": "a2a36234-dec3-46cb-8431-cb3914f4da14",
   "metadata": {
    "scrolled": true,
    "tags": []
   },
   "outputs": [
    {
     "name": "stderr",
     "output_type": "stream",
     "text": [
      "/home/ubuntu/miniconda3/envs/ADTnormPy/lib/python3.12/site-packages/rpy2/robjects/pandas2ri.py:56: UserWarning: DataFrame contains duplicated elements in the index, which will lead to loss of the row names in the resulting data.frame\n",
      "  warnings.warn('DataFrame contains duplicated elements in the index, '\n"
     ]
    },
    {
     "name": "stdout",
     "output_type": "stream",
     "text": [
      "[1] \"'batch' column is not provided. It will be set as the same as the 'sample' column.\"\n",
      "[1] \"Note: ADTnorm will process the following ADT markers as provided: CD3, CD4, CD8, CD14, CD15, CD16, CD56, CD19, CD25, CD45RA, CD45RO, PD1, TIGIT, CD127, IgG2a, IgG1, IgG2b\"\n",
      "Progress:  Each dot is a curve\n",
      "...\n",
      "Progress:  Each dot is a curve\n",
      "...\n",
      "Progress:  Each dot is a curve\n",
      "...\n",
      "Progress:  Each dot is a curve\n",
      "...\n",
      "Progress:  Each dot is a curve\n",
      "...\n",
      "Progress:  Each dot is a curve\n",
      "...\n",
      "Progress:  Each dot is a curve\n",
      "...\n",
      "Progress:  Each dot is a curve\n",
      "...\n",
      "Progress:  Each dot is a curve\n",
      "...\n",
      "Progress:  Each dot is a curve\n",
      "...\n",
      "Progress:  Each dot is a curve\n",
      "...\n",
      "Progress:  Each dot is a curve\n",
      "...\n",
      "Progress:  Each dot is a curve\n",
      "...\n",
      "Progress:  Each dot is a curve\n",
      "...\n",
      "Progress:  Each dot is a curve\n",
      "...\n",
      "Progress:  Each dot is a curve\n",
      "...\n",
      "Progress:  Each dot is a curve\n",
      "...\n"
     ]
    }
   ],
   "source": [
    "adtnorm_df = adtnormpy.adtnorm(prot_df,\n",
    "                         obs = obs,\n",
    "                         sample_column='sample',\n",
    "                         exclude_zeroes=True,\n",
    "                         peak_type='mode',\n",
    "                         save_outpath='ADTnormSave',\n",
    "                         save_landmark=True,\n",
    "                         save_fig=True,\n",
    "                         clean_adt_name=True)"
   ]
  },
  {
   "cell_type": "code",
   "execution_count": 10,
   "id": "1b0584c6-8e98-4b6f-9cfb-15fa8dce9d1d",
   "metadata": {
    "tags": []
   },
   "outputs": [
    {
     "data": {
      "text/html": [
       "<div>\n",
       "<style scoped>\n",
       "    .dataframe tbody tr th:only-of-type {\n",
       "        vertical-align: middle;\n",
       "    }\n",
       "\n",
       "    .dataframe tbody tr th {\n",
       "        vertical-align: top;\n",
       "    }\n",
       "\n",
       "    .dataframe thead th {\n",
       "        text-align: right;\n",
       "    }\n",
       "</style>\n",
       "<table border=\"1\" class=\"dataframe\">\n",
       "  <thead>\n",
       "    <tr style=\"text-align: right;\">\n",
       "      <th></th>\n",
       "      <th>CD3</th>\n",
       "      <th>CD4</th>\n",
       "      <th>CD8</th>\n",
       "      <th>CD14</th>\n",
       "      <th>CD15</th>\n",
       "      <th>CD16</th>\n",
       "      <th>CD56</th>\n",
       "      <th>CD19</th>\n",
       "      <th>CD25</th>\n",
       "      <th>CD45RA</th>\n",
       "      <th>CD45RO</th>\n",
       "      <th>PD1</th>\n",
       "      <th>TIGIT</th>\n",
       "      <th>CD127</th>\n",
       "      <th>IgG2a</th>\n",
       "      <th>IgG1</th>\n",
       "      <th>IgG2b</th>\n",
       "    </tr>\n",
       "  </thead>\n",
       "  <tbody>\n",
       "    <tr>\n",
       "      <th>AAACCCAAGATTGTGA-1</th>\n",
       "      <td>1.913011</td>\n",
       "      <td>3.581841</td>\n",
       "      <td>1.565323</td>\n",
       "      <td>5.084027</td>\n",
       "      <td>2.080433</td>\n",
       "      <td>1.573063</td>\n",
       "      <td>1.793180</td>\n",
       "      <td>1.136582</td>\n",
       "      <td>1.477726</td>\n",
       "      <td>3.166289</td>\n",
       "      <td>3.078941</td>\n",
       "      <td>1.427612</td>\n",
       "      <td>1.151893</td>\n",
       "      <td>1.322484</td>\n",
       "      <td>1.200492</td>\n",
       "      <td>0.891687</td>\n",
       "      <td>1.167918</td>\n",
       "    </tr>\n",
       "    <tr>\n",
       "      <th>AAACCCACATCGGTTA-1</th>\n",
       "      <td>2.339913</td>\n",
       "      <td>3.454205</td>\n",
       "      <td>1.816354</td>\n",
       "      <td>5.043536</td>\n",
       "      <td>2.521969</td>\n",
       "      <td>3.174261</td>\n",
       "      <td>4.189953</td>\n",
       "      <td>1.136582</td>\n",
       "      <td>1.199244</td>\n",
       "      <td>3.304994</td>\n",
       "      <td>3.748452</td>\n",
       "      <td>1.427612</td>\n",
       "      <td>1.501344</td>\n",
       "      <td>1.389186</td>\n",
       "      <td>1.118552</td>\n",
       "      <td>1.344396</td>\n",
       "      <td>1.167918</td>\n",
       "    </tr>\n",
       "    <tr>\n",
       "      <th>AAACCCAGTACCGCGT-1</th>\n",
       "      <td>1.913011</td>\n",
       "      <td>3.922756</td>\n",
       "      <td>1.413146</td>\n",
       "      <td>6.073554</td>\n",
       "      <td>2.743418</td>\n",
       "      <td>2.518141</td>\n",
       "      <td>2.115727</td>\n",
       "      <td>1.575710</td>\n",
       "      <td>1.798884</td>\n",
       "      <td>6.981815</td>\n",
       "      <td>2.179546</td>\n",
       "      <td>1.934572</td>\n",
       "      <td>1.613337</td>\n",
       "      <td>1.626900</td>\n",
       "      <td>1.684101</td>\n",
       "      <td>1.926180</td>\n",
       "      <td>1.436742</td>\n",
       "    </tr>\n",
       "    <tr>\n",
       "      <th>AAACCCAGTATCGAAA-1</th>\n",
       "      <td>1.913011</td>\n",
       "      <td>1.518511</td>\n",
       "      <td>1.739053</td>\n",
       "      <td>1.866719</td>\n",
       "      <td>2.711444</td>\n",
       "      <td>5.718765</td>\n",
       "      <td>4.877872</td>\n",
       "      <td>1.330239</td>\n",
       "      <td>1.798884</td>\n",
       "      <td>6.873774</td>\n",
       "      <td>2.179546</td>\n",
       "      <td>2.108754</td>\n",
       "      <td>2.931431</td>\n",
       "      <td>1.830224</td>\n",
       "      <td>1.684101</td>\n",
       "      <td>1.788049</td>\n",
       "      <td>1.263894</td>\n",
       "    </tr>\n",
       "    <tr>\n",
       "      <th>AAACCCAGTCGTCATA-1</th>\n",
       "      <td>1.177589</td>\n",
       "      <td>1.668269</td>\n",
       "      <td>1.611502</td>\n",
       "      <td>1.828801</td>\n",
       "      <td>2.949905</td>\n",
       "      <td>6.253226</td>\n",
       "      <td>4.806057</td>\n",
       "      <td>1.236846</td>\n",
       "      <td>1.844707</td>\n",
       "      <td>6.728374</td>\n",
       "      <td>1.942487</td>\n",
       "      <td>2.202188</td>\n",
       "      <td>3.175057</td>\n",
       "      <td>1.876577</td>\n",
       "      <td>1.353014</td>\n",
       "      <td>1.688355</td>\n",
       "      <td>1.657929</td>\n",
       "    </tr>\n",
       "    <tr>\n",
       "      <th>...</th>\n",
       "      <td>...</td>\n",
       "      <td>...</td>\n",
       "      <td>...</td>\n",
       "      <td>...</td>\n",
       "      <td>...</td>\n",
       "      <td>...</td>\n",
       "      <td>...</td>\n",
       "      <td>...</td>\n",
       "      <td>...</td>\n",
       "      <td>...</td>\n",
       "      <td>...</td>\n",
       "      <td>...</td>\n",
       "      <td>...</td>\n",
       "      <td>...</td>\n",
       "      <td>...</td>\n",
       "      <td>...</td>\n",
       "      <td>...</td>\n",
       "    </tr>\n",
       "    <tr>\n",
       "      <th>TTTCGATCAGGCATTT-1</th>\n",
       "      <td>6.094236</td>\n",
       "      <td>7.903278</td>\n",
       "      <td>2.406731</td>\n",
       "      <td>2.285466</td>\n",
       "      <td>2.131973</td>\n",
       "      <td>1.307704</td>\n",
       "      <td>1.260289</td>\n",
       "      <td>1.278513</td>\n",
       "      <td>2.487777</td>\n",
       "      <td>3.714524</td>\n",
       "      <td>4.065046</td>\n",
       "      <td>2.459846</td>\n",
       "      <td>1.235967</td>\n",
       "      <td>3.439004</td>\n",
       "      <td>1.468859</td>\n",
       "      <td>1.262869</td>\n",
       "      <td>1.204049</td>\n",
       "    </tr>\n",
       "    <tr>\n",
       "      <th>TTTCGATGTCAACGCC-1</th>\n",
       "      <td>6.247052</td>\n",
       "      <td>8.182787</td>\n",
       "      <td>2.344182</td>\n",
       "      <td>2.439319</td>\n",
       "      <td>2.547288</td>\n",
       "      <td>1.780975</td>\n",
       "      <td>1.166756</td>\n",
       "      <td>1.278513</td>\n",
       "      <td>1.818528</td>\n",
       "      <td>2.683397</td>\n",
       "      <td>5.289026</td>\n",
       "      <td>2.245026</td>\n",
       "      <td>1.336229</td>\n",
       "      <td>3.554467</td>\n",
       "      <td>1.543704</td>\n",
       "      <td>1.700944</td>\n",
       "      <td>1.076490</td>\n",
       "    </tr>\n",
       "    <tr>\n",
       "      <th>TTTGACTTCTCCGAGG-1</th>\n",
       "      <td>1.462260</td>\n",
       "      <td>3.834868</td>\n",
       "      <td>2.166254</td>\n",
       "      <td>5.690381</td>\n",
       "      <td>4.385559</td>\n",
       "      <td>2.114295</td>\n",
       "      <td>1.629485</td>\n",
       "      <td>NaN</td>\n",
       "      <td>1.270985</td>\n",
       "      <td>2.492913</td>\n",
       "      <td>5.113585</td>\n",
       "      <td>1.403582</td>\n",
       "      <td>1.126277</td>\n",
       "      <td>NaN</td>\n",
       "      <td>1.068050</td>\n",
       "      <td>1.042469</td>\n",
       "      <td>1.204049</td>\n",
       "    </tr>\n",
       "    <tr>\n",
       "      <th>TTTGATCCAAACCACT-1</th>\n",
       "      <td>2.290122</td>\n",
       "      <td>6.889439</td>\n",
       "      <td>1.839625</td>\n",
       "      <td>4.487260</td>\n",
       "      <td>1.764155</td>\n",
       "      <td>2.544269</td>\n",
       "      <td>1.260289</td>\n",
       "      <td>NaN</td>\n",
       "      <td>1.270985</td>\n",
       "      <td>4.531825</td>\n",
       "      <td>4.639676</td>\n",
       "      <td>1.403582</td>\n",
       "      <td>1.126277</td>\n",
       "      <td>1.274380</td>\n",
       "      <td>1.292631</td>\n",
       "      <td>1.159371</td>\n",
       "      <td>1.204049</td>\n",
       "    </tr>\n",
       "    <tr>\n",
       "      <th>TTTGGTTCACAAGTGG-1</th>\n",
       "      <td>1.935875</td>\n",
       "      <td>2.010121</td>\n",
       "      <td>1.781867</td>\n",
       "      <td>1.947585</td>\n",
       "      <td>2.393104</td>\n",
       "      <td>1.903432</td>\n",
       "      <td>2.173050</td>\n",
       "      <td>5.437164</td>\n",
       "      <td>1.753084</td>\n",
       "      <td>6.905630</td>\n",
       "      <td>2.052368</td>\n",
       "      <td>1.917003</td>\n",
       "      <td>1.592348</td>\n",
       "      <td>1.602389</td>\n",
       "      <td>1.385710</td>\n",
       "      <td>1.804136</td>\n",
       "      <td>1.511249</td>\n",
       "    </tr>\n",
       "  </tbody>\n",
       "</table>\n",
       "<p>13825 rows × 17 columns</p>\n",
       "</div>"
      ],
      "text/plain": [
       "                         CD3       CD4       CD8      CD14      CD15  \\\n",
       "AAACCCAAGATTGTGA-1  1.913011  3.581841  1.565323  5.084027  2.080433   \n",
       "AAACCCACATCGGTTA-1  2.339913  3.454205  1.816354  5.043536  2.521969   \n",
       "AAACCCAGTACCGCGT-1  1.913011  3.922756  1.413146  6.073554  2.743418   \n",
       "AAACCCAGTATCGAAA-1  1.913011  1.518511  1.739053  1.866719  2.711444   \n",
       "AAACCCAGTCGTCATA-1  1.177589  1.668269  1.611502  1.828801  2.949905   \n",
       "...                      ...       ...       ...       ...       ...   \n",
       "TTTCGATCAGGCATTT-1  6.094236  7.903278  2.406731  2.285466  2.131973   \n",
       "TTTCGATGTCAACGCC-1  6.247052  8.182787  2.344182  2.439319  2.547288   \n",
       "TTTGACTTCTCCGAGG-1  1.462260  3.834868  2.166254  5.690381  4.385559   \n",
       "TTTGATCCAAACCACT-1  2.290122  6.889439  1.839625  4.487260  1.764155   \n",
       "TTTGGTTCACAAGTGG-1  1.935875  2.010121  1.781867  1.947585  2.393104   \n",
       "\n",
       "                        CD16      CD56      CD19      CD25    CD45RA  \\\n",
       "AAACCCAAGATTGTGA-1  1.573063  1.793180  1.136582  1.477726  3.166289   \n",
       "AAACCCACATCGGTTA-1  3.174261  4.189953  1.136582  1.199244  3.304994   \n",
       "AAACCCAGTACCGCGT-1  2.518141  2.115727  1.575710  1.798884  6.981815   \n",
       "AAACCCAGTATCGAAA-1  5.718765  4.877872  1.330239  1.798884  6.873774   \n",
       "AAACCCAGTCGTCATA-1  6.253226  4.806057  1.236846  1.844707  6.728374   \n",
       "...                      ...       ...       ...       ...       ...   \n",
       "TTTCGATCAGGCATTT-1  1.307704  1.260289  1.278513  2.487777  3.714524   \n",
       "TTTCGATGTCAACGCC-1  1.780975  1.166756  1.278513  1.818528  2.683397   \n",
       "TTTGACTTCTCCGAGG-1  2.114295  1.629485       NaN  1.270985  2.492913   \n",
       "TTTGATCCAAACCACT-1  2.544269  1.260289       NaN  1.270985  4.531825   \n",
       "TTTGGTTCACAAGTGG-1  1.903432  2.173050  5.437164  1.753084  6.905630   \n",
       "\n",
       "                      CD45RO       PD1     TIGIT     CD127     IgG2a  \\\n",
       "AAACCCAAGATTGTGA-1  3.078941  1.427612  1.151893  1.322484  1.200492   \n",
       "AAACCCACATCGGTTA-1  3.748452  1.427612  1.501344  1.389186  1.118552   \n",
       "AAACCCAGTACCGCGT-1  2.179546  1.934572  1.613337  1.626900  1.684101   \n",
       "AAACCCAGTATCGAAA-1  2.179546  2.108754  2.931431  1.830224  1.684101   \n",
       "AAACCCAGTCGTCATA-1  1.942487  2.202188  3.175057  1.876577  1.353014   \n",
       "...                      ...       ...       ...       ...       ...   \n",
       "TTTCGATCAGGCATTT-1  4.065046  2.459846  1.235967  3.439004  1.468859   \n",
       "TTTCGATGTCAACGCC-1  5.289026  2.245026  1.336229  3.554467  1.543704   \n",
       "TTTGACTTCTCCGAGG-1  5.113585  1.403582  1.126277       NaN  1.068050   \n",
       "TTTGATCCAAACCACT-1  4.639676  1.403582  1.126277  1.274380  1.292631   \n",
       "TTTGGTTCACAAGTGG-1  2.052368  1.917003  1.592348  1.602389  1.385710   \n",
       "\n",
       "                        IgG1     IgG2b  \n",
       "AAACCCAAGATTGTGA-1  0.891687  1.167918  \n",
       "AAACCCACATCGGTTA-1  1.344396  1.167918  \n",
       "AAACCCAGTACCGCGT-1  1.926180  1.436742  \n",
       "AAACCCAGTATCGAAA-1  1.788049  1.263894  \n",
       "AAACCCAGTCGTCATA-1  1.688355  1.657929  \n",
       "...                      ...       ...  \n",
       "TTTCGATCAGGCATTT-1  1.262869  1.204049  \n",
       "TTTCGATGTCAACGCC-1  1.700944  1.076490  \n",
       "TTTGACTTCTCCGAGG-1  1.042469  1.204049  \n",
       "TTTGATCCAAACCACT-1  1.159371  1.204049  \n",
       "TTTGGTTCACAAGTGG-1  1.804136  1.511249  \n",
       "\n",
       "[13825 rows x 17 columns]"
      ]
     },
     "execution_count": 10,
     "metadata": {},
     "output_type": "execute_result"
    }
   ],
   "source": [
    "adtnorm_df"
   ]
  },
  {
   "cell_type": "code",
   "execution_count": 11,
   "id": "8a02f63c-dfbf-4764-8cc0-b3e96527afb6",
   "metadata": {
    "tags": []
   },
   "outputs": [
    {
     "name": "stderr",
     "output_type": "stream",
     "text": [
      "/home/ubuntu/miniconda3/envs/ADTnormPy/lib/python3.12/site-packages/anndata/_core/anndata.py:1818: UserWarning: Observation names are not unique. To make them unique, call `.obs_names_make_unique`.\n",
      "  utils.warn_names_duplicates(\"obs\")\n",
      "/home/ubuntu/miniconda3/envs/ADTnormPy/lib/python3.12/site-packages/rpy2/robjects/pandas2ri.py:56: UserWarning: DataFrame contains duplicated elements in the index, which will lead to loss of the row names in the resulting data.frame\n",
      "  warnings.warn('DataFrame contains duplicated elements in the index, '\n"
     ]
    },
    {
     "name": "stdout",
     "output_type": "stream",
     "text": [
      "[1] \"'batch' column is not provided. It will be set as the same as the 'sample' column.\"\n",
      "[1] \"Note: ADTnorm will process the following ADT markers as provided: CD3_TotalSeqB, CD4_TotalSeqB, CD8a_TotalSeqB, CD14_TotalSeqB, CD15_TotalSeqB, CD16_TotalSeqB, CD56_TotalSeqB, CD19_TotalSeqB, CD25_TotalSeqB, CD45RA_TotalSeqB, CD45RO_TotalSeqB, PD-1_TotalSeqB, TIGIT_TotalSeqB, CD127_TotalSeqB, IgG2a_control_TotalSeqB, IgG1_control_TotalSeqB, IgG2b_control_TotalSeqB\"\n",
      "Progress:  Each dot is a curve\n",
      "...\n",
      "Progress:  Each dot is a curve\n",
      "...\n",
      "Progress:  Each dot is a curve\n",
      "...\n",
      "Progress:  Each dot is a curve\n",
      "...\n",
      "Progress:  Each dot is a curve\n",
      "...\n",
      "Progress:  Each dot is a curve\n",
      "...\n",
      "Progress:  Each dot is a curve\n",
      "...\n",
      "Progress:  Each dot is a curve\n",
      "...\n",
      "Progress:  Each dot is a curve\n",
      "...\n",
      "Progress:  Each dot is a curve\n",
      "...\n",
      "Progress:  Each dot is a curve\n",
      "...\n",
      "Progress:  Each dot is a curve\n",
      "...\n",
      "Progress:  Each dot is a curve\n",
      "...\n",
      "Progress:  Each dot is a curve\n",
      "...\n",
      "Progress:  Each dot is a curve\n",
      "...\n",
      "Progress:  Each dot is a curve\n",
      "...\n",
      "Progress:  Each dot is a curve\n",
      "...\n"
     ]
    }
   ],
   "source": [
    "# We could also do this using an AnnData of protein information:\n",
    "prot = adata[:,adata.var.feature_types == 'Antibody Capture'].copy()\n",
    "# Note: to use an AnnData as an input, sparse matrices must be made dense:\n",
    "prot.X = prot.X.A\n",
    "prot = adtnormpy.adtnorm(prot,\n",
    "                         ADT_location=None,\n",
    "                         sample_column='sample',\n",
    "                         exclude_zeroes=True, \n",
    "                         return_location='ADTnorm',\n",
    "                         peak_type='mode',\n",
    "                         save_fig=True)"
   ]
  },
  {
   "cell_type": "markdown",
   "id": "8acd1813-1afa-4753-8709-28c997ea58e6",
   "metadata": {},
   "source": [
    "Now you can see the landmark registered expression is added as a layer to the .X. This was controlled by the \"return_location\" parameter."
   ]
  },
  {
   "cell_type": "code",
   "execution_count": 12,
   "id": "977d6382-04d2-4039-92cc-4b6839f12dd6",
   "metadata": {
    "tags": []
   },
   "outputs": [
    {
     "data": {
      "text/plain": [
       "AnnData object with n_obs × n_vars = 13825 × 17\n",
       "    obs: 'sample'\n",
       "    var: 'gene_ids', 'feature_types', 'genome'\n",
       "    layers: 'ADTnorm'"
      ]
     },
     "execution_count": 12,
     "metadata": {},
     "output_type": "execute_result"
    }
   ],
   "source": [
    "prot"
   ]
  },
  {
   "cell_type": "markdown",
   "id": "c5d7366e-c055-4e79-ad7e-d79cd2a0d3f2",
   "metadata": {
    "tags": []
   },
   "source": [
    "## View plots\n",
    "We can load the pdf files saved during landmark registration (when save_outpath=True) to see the distributions for each sample before and after landmark registration"
   ]
  },
  {
   "cell_type": "code",
   "execution_count": 13,
   "id": "68899e6a-1750-46d7-aa17-d7793b21907e",
   "metadata": {
    "tags": []
   },
   "outputs": [],
   "source": [
    "class PDF(object):\n",
    "    '''grabbed from: https://stackoverflow.com/questions/19470099/view-pdf-image-in-an-ipython-notebook'''\n",
    "    def __init__(self, pdf, size=(200,200)):\n",
    "        self.pdf = pdf\n",
    "        self.size = size\n",
    "\n",
    "    def _repr_html_(self):\n",
    "        return '<iframe src={0} width={1[0]} height={1[1]}></iframe>'.format(self.pdf, self.size)\n",
    "\n",
    "    def _repr_latex_(self):\n",
    "        return r'\\includegraphics[width=1.0\\textwidth]{{{0}}}'.format(self.pdf)"
   ]
  },
  {
   "cell_type": "code",
   "execution_count": 14,
   "id": "5170bc5e-536d-46ee-b070-0b03b936c4d9",
   "metadata": {
    "tags": []
   },
   "outputs": [
    {
     "data": {
      "text/html": [
       "<iframe src=ADTnormSave/figures/ArcsinhTransformation_CD3_ADTnormPy.pdf width=600 height=150></iframe>"
      ],
      "text/latex": [
       "\\includegraphics[width=1.0\\textwidth]{ADTnormSave/figures/ArcsinhTransformation_CD3_ADTnormPy.pdf}"
      ],
      "text/plain": [
       "<__main__.PDF at 0x7f551b2f3260>"
      ]
     },
     "execution_count": 14,
     "metadata": {},
     "output_type": "execute_result"
    }
   ],
   "source": [
    "PDF('ADTnormSave/figures/ArcsinhTransformation_CD3_ADTnormPy.pdf',size=(600,150))"
   ]
  },
  {
   "cell_type": "code",
   "execution_count": 15,
   "id": "6c4b36eb-000c-4a45-a5a7-79259acd6bcd",
   "metadata": {
    "tags": []
   },
   "outputs": [
    {
     "data": {
      "text/html": [
       "<iframe src=ADTnormSave/figures/ADTnorm_CD3_ADTnormPy.pdf width=600 height=150></iframe>"
      ],
      "text/latex": [
       "\\includegraphics[width=1.0\\textwidth]{ADTnormSave/figures/ADTnorm_CD3_ADTnormPy.pdf}"
      ],
      "text/plain": [
       "<__main__.PDF at 0x7f550da8bb30>"
      ]
     },
     "execution_count": 15,
     "metadata": {},
     "output_type": "execute_result"
    }
   ],
   "source": [
    "PDF('ADTnormSave/figures/ADTnorm_CD3_ADTnormPy.pdf',size=(600,150))"
   ]
  },
  {
   "cell_type": "markdown",
   "id": "cdad4714-51ad-4f8b-bf56-937ea5d2bef4",
   "metadata": {
    "tags": []
   },
   "source": [
    "## View landmarks\n",
    "While running ADTnorm, you can also optionally save landmarks detected (peaks and valleys) to .rds files for each marker. Here, we've provided a function to load those landmarks into python, given the save_outpath used during ADTnorm."
   ]
  },
  {
   "cell_type": "code",
   "execution_count": 16,
   "id": "7458bbc3-d6aa-4354-b640-0f6dbcc0d015",
   "metadata": {
    "tags": []
   },
   "outputs": [],
   "source": [
    "landmark_override = adtnormpy.landmarks_to_python('ADTnormSave')"
   ]
  },
  {
   "cell_type": "code",
   "execution_count": 17,
   "id": "efd6d92f-a492-4b26-93d1-11decdf7f1ff",
   "metadata": {
    "scrolled": true,
    "tags": []
   },
   "outputs": [
    {
     "data": {
      "text/plain": [
       "{'CD127': {'peak_landmark_list':                                0         1\n",
       "  pbmc_10k_protein_v3.h5  1.941562  4.021367\n",
       "  5k_pbmc_protein_v3.h5   1.310240  2.795740\n",
       "  pbmc_1k_protein_v3.h5   1.644436  3.984215,\n",
       "  'valley_landmark_list':                                0\n",
       "  pbmc_10k_protein_v3.h5  2.881360\n",
       "  5k_pbmc_protein_v3.h5   2.052990\n",
       "  pbmc_1k_protein_v3.h5   2.814325},\n",
       " 'CD14': {'peak_landmark_list':                                0         1\n",
       "  pbmc_10k_protein_v3.h5  2.653008  6.224008\n",
       "  5k_pbmc_protein_v3.h5   1.784367  5.548419\n",
       "  pbmc_1k_protein_v3.h5   2.170437  6.368777,\n",
       "  'valley_landmark_list':                                0\n",
       "  pbmc_10k_protein_v3.h5  3.827699\n",
       "  5k_pbmc_protein_v3.h5   2.917539\n",
       "  pbmc_1k_protein_v3.h5   3.796171},\n",
       " 'CD15': {'peak_landmark_list':                                0\n",
       "  pbmc_10k_protein_v3.h5  3.784464\n",
       "  5k_pbmc_protein_v3.h5   1.764095\n",
       "  pbmc_1k_protein_v3.h5   2.093036,\n",
       "  'valley_landmark_list':                                0\n",
       "  pbmc_10k_protein_v3.h5  4.563340\n",
       "  5k_pbmc_protein_v3.h5   2.618658\n",
       "  pbmc_1k_protein_v3.h5   3.052818},\n",
       " 'CD16': {'peak_landmark_list':                                0         1\n",
       "  pbmc_10k_protein_v3.h5  2.595587  6.132463\n",
       "  5k_pbmc_protein_v3.h5   1.117525  5.129424\n",
       "  pbmc_1k_protein_v3.h5   1.909277       NaN,\n",
       "  'valley_landmark_list':                                0\n",
       "  pbmc_10k_protein_v3.h5  3.763694\n",
       "  5k_pbmc_protein_v3.h5   1.839881\n",
       "  pbmc_1k_protein_v3.h5   2.804117},\n",
       " 'CD19': {'peak_landmark_list':                                0         1\n",
       "  pbmc_10k_protein_v3.h5  1.356826  5.529673\n",
       "  5k_pbmc_protein_v3.h5   1.270705  5.228594\n",
       "  pbmc_1k_protein_v3.h5   1.098717  5.701745,\n",
       "  'valley_landmark_list':                                0\n",
       "  pbmc_10k_protein_v3.h5  2.104091\n",
       "  5k_pbmc_protein_v3.h5   2.000506\n",
       "  pbmc_1k_protein_v3.h5   1.947666},\n",
       " 'CD25': {'peak_landmark_list':                                0\n",
       "  pbmc_10k_protein_v3.h5  1.918572\n",
       "  5k_pbmc_protein_v3.h5   1.271502\n",
       "  pbmc_1k_protein_v3.h5   1.702887,\n",
       "  'valley_landmark_list':                                0\n",
       "  pbmc_10k_protein_v3.h5  2.794554\n",
       "  5k_pbmc_protein_v3.h5   2.200049\n",
       "  pbmc_1k_protein_v3.h5   2.502186},\n",
       " 'CD3': {'peak_landmark_list':                                0         1\n",
       "  pbmc_10k_protein_v3.h5  2.380700  6.697400\n",
       "  5k_pbmc_protein_v3.h5   1.906850  5.486636\n",
       "  pbmc_1k_protein_v3.h5   1.906878  6.539422,\n",
       "  'valley_landmark_list':                                0\n",
       "  pbmc_10k_protein_v3.h5  4.500000\n",
       "  5k_pbmc_protein_v3.h5   3.098870\n",
       "  pbmc_1k_protein_v3.h5   4.024145},\n",
       " 'CD4': {'peak_landmark_list':                                0         1\n",
       "  pbmc_10k_protein_v3.h5  2.297072  7.009513\n",
       "  5k_pbmc_protein_v3.h5   1.547356  5.992049\n",
       "  pbmc_1k_protein_v3.h5   1.868680  5.188819,\n",
       "  'valley_landmark_list':                                0\n",
       "  pbmc_10k_protein_v3.h5  3.794598\n",
       "  5k_pbmc_protein_v3.h5   2.745926\n",
       "  pbmc_1k_protein_v3.h5   3.528749},\n",
       " 'CD45RA': {'peak_landmark_list':                                0         1\n",
       "  pbmc_10k_protein_v3.h5  3.245030  7.097612\n",
       "  5k_pbmc_protein_v3.h5   1.793375  4.920097\n",
       "  pbmc_1k_protein_v3.h5   2.575030  7.265099,\n",
       "  'valley_landmark_list':                                0\n",
       "  pbmc_10k_protein_v3.h5  4.909790\n",
       "  5k_pbmc_protein_v3.h5   3.278821\n",
       "  pbmc_1k_protein_v3.h5   4.920065},\n",
       " 'CD45RO': {'peak_landmark_list':                                0         1\n",
       "  pbmc_10k_protein_v3.h5  2.428813  5.261788\n",
       "  5k_pbmc_protein_v3.h5   1.437306  3.750851\n",
       "  pbmc_1k_protein_v3.h5   2.192774  5.072948,\n",
       "  'valley_landmark_list':                                0\n",
       "  pbmc_10k_protein_v3.h5  3.646171\n",
       "  5k_pbmc_protein_v3.h5   2.538349\n",
       "  pbmc_1k_protein_v3.h5   3.632861},\n",
       " 'CD56': {'peak_landmark_list':                                0         1\n",
       "  pbmc_10k_protein_v3.h5  2.195475  5.067938\n",
       "  5k_pbmc_protein_v3.h5   1.266159  4.011885\n",
       "  pbmc_1k_protein_v3.h5   1.942107       NaN,\n",
       "  'valley_landmark_list':                                0\n",
       "  pbmc_10k_protein_v3.h5  3.018925\n",
       "  5k_pbmc_protein_v3.h5   1.981662\n",
       "  pbmc_1k_protein_v3.h5   2.822847},\n",
       " 'CD8': {'peak_landmark_list':                                0         1\n",
       "  pbmc_10k_protein_v3.h5  2.470065  7.885733\n",
       "  5k_pbmc_protein_v3.h5   1.480668  4.969581\n",
       "  pbmc_1k_protein_v3.h5   2.053436  6.635994,\n",
       "  'valley_landmark_list':                                0\n",
       "  pbmc_10k_protein_v3.h5  3.484441\n",
       "  5k_pbmc_protein_v3.h5   2.284410\n",
       "  pbmc_1k_protein_v3.h5   3.080097},\n",
       " 'IgG1': {'peak_landmark_list':                                0\n",
       "  pbmc_10k_protein_v3.h5  1.831047\n",
       "  5k_pbmc_protein_v3.h5   1.115603\n",
       "  pbmc_1k_protein_v3.h5   1.490400,\n",
       "  'valley_landmark_list':                                0\n",
       "  pbmc_10k_protein_v3.h5  2.645267\n",
       "  5k_pbmc_protein_v3.h5   1.820816\n",
       "  pbmc_1k_protein_v3.h5   2.545823},\n",
       " 'IgG2a': {'peak_landmark_list':                                0\n",
       "  pbmc_10k_protein_v3.h5  1.607874\n",
       "  5k_pbmc_protein_v3.h5   1.132537\n",
       "  pbmc_1k_protein_v3.h5   1.310793,\n",
       "  'valley_landmark_list':                                0\n",
       "  pbmc_10k_protein_v3.h5  2.399927\n",
       "  5k_pbmc_protein_v3.h5   1.871334\n",
       "  pbmc_1k_protein_v3.h5   2.324884},\n",
       " 'IgG2b': {'peak_landmark_list':                                0\n",
       "  pbmc_10k_protein_v3.h5  1.260517\n",
       "  5k_pbmc_protein_v3.h5   1.162002\n",
       "  pbmc_1k_protein_v3.h5   1.112633,\n",
       "  'valley_landmark_list':                                0\n",
       "  pbmc_10k_protein_v3.h5  2.080866\n",
       "  5k_pbmc_protein_v3.h5   1.944993\n",
       "  pbmc_1k_protein_v3.h5   1.940358},\n",
       " 'PD1': {'peak_landmark_list':                                0\n",
       "  pbmc_10k_protein_v3.h5  2.297967\n",
       "  5k_pbmc_protein_v3.h5   1.466588\n",
       "  pbmc_1k_protein_v3.h5   1.995649,\n",
       "  'valley_landmark_list':                                0\n",
       "  pbmc_10k_protein_v3.h5  3.060873\n",
       "  5k_pbmc_protein_v3.h5   2.173615\n",
       "  pbmc_1k_protein_v3.h5   2.838360},\n",
       " 'TIGIT': {'peak_landmark_list':                                0        1\n",
       "  pbmc_10k_protein_v3.h5  1.629600  3.08397\n",
       "  5k_pbmc_protein_v3.h5   1.144791      NaN\n",
       "  pbmc_1k_protein_v3.h5   1.409224      NaN,\n",
       "  'valley_landmark_list':                                0\n",
       "  pbmc_10k_protein_v3.h5  2.517463\n",
       "  5k_pbmc_protein_v3.h5   1.864452\n",
       "  pbmc_1k_protein_v3.h5   2.223501}}"
      ]
     },
     "execution_count": 17,
     "metadata": {},
     "output_type": "execute_result"
    }
   ],
   "source": [
    "landmark_override"
   ]
  },
  {
   "cell_type": "markdown",
   "id": "100d27d9-4f11-4e7a-9529-7ea4f653e075",
   "metadata": {},
   "source": [
    "We can also edit these right here in the notebook, or save the python landmarks to .csv files to edit offline:"
   ]
  },
  {
   "cell_type": "code",
   "execution_count": 18,
   "id": "45b16833-1542-4f33-bf40-67afa10f7029",
   "metadata": {
    "tags": []
   },
   "outputs": [],
   "source": [
    "landmark_override['CD3']['valley_landmark_list'].loc['pbmc_10k_protein_v3.h5',0] = 4.5"
   ]
  },
  {
   "cell_type": "code",
   "execution_count": 19,
   "id": "57bfa7ef-6f8e-48f0-b9b7-4978ba3fbf88",
   "metadata": {
    "tags": []
   },
   "outputs": [
    {
     "data": {
      "text/html": [
       "<div>\n",
       "<style scoped>\n",
       "    .dataframe tbody tr th:only-of-type {\n",
       "        vertical-align: middle;\n",
       "    }\n",
       "\n",
       "    .dataframe tbody tr th {\n",
       "        vertical-align: top;\n",
       "    }\n",
       "\n",
       "    .dataframe thead th {\n",
       "        text-align: right;\n",
       "    }\n",
       "</style>\n",
       "<table border=\"1\" class=\"dataframe\">\n",
       "  <thead>\n",
       "    <tr style=\"text-align: right;\">\n",
       "      <th></th>\n",
       "      <th>0</th>\n",
       "    </tr>\n",
       "  </thead>\n",
       "  <tbody>\n",
       "    <tr>\n",
       "      <th>pbmc_10k_protein_v3.h5</th>\n",
       "      <td>4.500000</td>\n",
       "    </tr>\n",
       "    <tr>\n",
       "      <th>5k_pbmc_protein_v3.h5</th>\n",
       "      <td>3.098870</td>\n",
       "    </tr>\n",
       "    <tr>\n",
       "      <th>pbmc_1k_protein_v3.h5</th>\n",
       "      <td>4.024145</td>\n",
       "    </tr>\n",
       "  </tbody>\n",
       "</table>\n",
       "</div>"
      ],
      "text/plain": [
       "                               0\n",
       "pbmc_10k_protein_v3.h5  4.500000\n",
       "5k_pbmc_protein_v3.h5   3.098870\n",
       "pbmc_1k_protein_v3.h5   4.024145"
      ]
     },
     "execution_count": 19,
     "metadata": {},
     "output_type": "execute_result"
    }
   ],
   "source": [
    "landmark_override['CD3']['valley_landmark_list']"
   ]
  },
  {
   "cell_type": "code",
   "execution_count": 20,
   "id": "d3235228-199a-48ab-a7a9-de472d64fad5",
   "metadata": {
    "tags": []
   },
   "outputs": [],
   "source": [
    "adtnormpy.save_python_landmarks(landmark_override,'ADTnormSave')"
   ]
  },
  {
   "cell_type": "markdown",
   "id": "789eecb8-f93c-4b7c-8c74-5f8cabf7bd1f",
   "metadata": {},
   "source": [
    "Once we've finished editing the .csv files we can load them back in as a dictionary using this function"
   ]
  },
  {
   "cell_type": "code",
   "execution_count": 21,
   "id": "64ce8245-b665-4ebe-a168-7a224401ad25",
   "metadata": {
    "tags": []
   },
   "outputs": [],
   "source": [
    "loaded_from_csv = adtnormpy.load_python_landmarks('ADTnormSave')"
   ]
  },
  {
   "cell_type": "code",
   "execution_count": 22,
   "id": "41fd57fa-b9ff-4d1c-a747-8ef36fad87b6",
   "metadata": {
    "tags": []
   },
   "outputs": [
    {
     "data": {
      "text/html": [
       "<div>\n",
       "<style scoped>\n",
       "    .dataframe tbody tr th:only-of-type {\n",
       "        vertical-align: middle;\n",
       "    }\n",
       "\n",
       "    .dataframe tbody tr th {\n",
       "        vertical-align: top;\n",
       "    }\n",
       "\n",
       "    .dataframe thead th {\n",
       "        text-align: right;\n",
       "    }\n",
       "</style>\n",
       "<table border=\"1\" class=\"dataframe\">\n",
       "  <thead>\n",
       "    <tr style=\"text-align: right;\">\n",
       "      <th></th>\n",
       "      <th>0</th>\n",
       "    </tr>\n",
       "  </thead>\n",
       "  <tbody>\n",
       "    <tr>\n",
       "      <th>pbmc_10k_protein_v3.h5</th>\n",
       "      <td>4.500000</td>\n",
       "    </tr>\n",
       "    <tr>\n",
       "      <th>5k_pbmc_protein_v3.h5</th>\n",
       "      <td>3.098870</td>\n",
       "    </tr>\n",
       "    <tr>\n",
       "      <th>pbmc_1k_protein_v3.h5</th>\n",
       "      <td>4.024145</td>\n",
       "    </tr>\n",
       "  </tbody>\n",
       "</table>\n",
       "</div>"
      ],
      "text/plain": [
       "                               0\n",
       "pbmc_10k_protein_v3.h5  4.500000\n",
       "5k_pbmc_protein_v3.h5   3.098870\n",
       "pbmc_1k_protein_v3.h5   4.024145"
      ]
     },
     "execution_count": 22,
     "metadata": {},
     "output_type": "execute_result"
    }
   ],
   "source": [
    "loaded_from_csv['CD3']['valley_landmark_list']"
   ]
  },
  {
   "cell_type": "markdown",
   "id": "e8322ec3-e874-4224-a70c-fa69fd570dfa",
   "metadata": {},
   "source": [
    "We can also convert this to R to get the overrides saved as .rds files like we originally loaded in."
   ]
  },
  {
   "cell_type": "code",
   "execution_count": 23,
   "id": "a81d7f01-50eb-4cb6-8c8b-6d55f78c225a",
   "metadata": {
    "tags": []
   },
   "outputs": [],
   "source": [
    "r_result = adtnormpy.landmarks_to_r(loaded_from_csv,'ADTnormSave')"
   ]
  },
  {
   "cell_type": "markdown",
   "id": "a867b7d7-6284-478b-aa94-0ca19c187250",
   "metadata": {},
   "source": [
    "## Advanced running of ADTnorm"
   ]
  },
  {
   "cell_type": "markdown",
   "id": "dff13ae4-f4e9-4156-a5d3-1726e11cfc82",
   "metadata": {},
   "source": [
    "ADTnormPy has options to support all of the keyword arguments specified in ADTnorm documentation. This includes using marker_to_process to limit to one (or a few) ADTs, using customize_landmark to open up a GUI for landmark editing, and providing overrides to landmark detection using override_landmark. Here, we'll use all of those features to perform ADTnorm on CD3 using the altered valley landmark that we specified above. \n",
    "\n",
    "Note, you will need to open up and respond to the popup created by customize_landmark to continue running this code. "
   ]
  },
  {
   "cell_type": "code",
   "execution_count": 24,
   "id": "2c92b5a7-1530-4370-825e-28baf28eca07",
   "metadata": {},
   "outputs": [
    {
     "name": "stdout",
     "output_type": "stream",
     "text": [
      "Attempting to load override_landmark from .rds\n",
      "Failed. Attempting to load override_landmark from .csv\n",
      "Success, found overrides for: dict_keys(['IgG1', 'CD56', 'CD14', 'CD19', 'CD45RO', 'CD127', 'IgG2b', 'IgG2a', 'CD16', 'CD3', 'CD45RA', 'CD8', 'CD4', 'CD3_TotalSeqB', 'TIGIT', 'CD25', 'CD15', 'PD1'])\n"
     ]
    },
    {
     "name": "stderr",
     "output_type": "stream",
     "text": [
      "/home/ubuntu/miniconda3/envs/ADTnormPy/lib/python3.12/site-packages/rpy2/robjects/pandas2ri.py:56: UserWarning: DataFrame contains duplicated elements in the index, which will lead to loss of the row names in the resulting data.frame\n",
      "  warnings.warn('DataFrame contains duplicated elements in the index, '\n"
     ]
    },
    {
     "name": "stdout",
     "output_type": "stream",
     "text": [
      "[1] \"'batch' column is not provided. It will be set as the same as the 'sample' column.\"\n",
      "[1] \"Note: ADTnorm will process the following ADT markers as provided: CD3\"\n"
     ]
    },
    {
     "name": "stderr",
     "output_type": "stream",
     "text": [
      "R[write to console]: Loading required package: shiny\n",
      "\n",
      "R[write to console]: \n",
      "Listening on http://127.0.0.1:7617\n",
      "\n",
      "Error: no DISPLAY environment variable specified\n",
      "R[write to console]: Warning:\n",
      "R[write to console]:  Removed 13 rows containing non-finite outside the scale range\n",
      "(`stat_density_ridges()`).\n",
      "\n",
      "R[write to console]: Warning:\n",
      "R[write to console]:  Removed 13 rows containing non-finite outside the scale range\n",
      "(`stat_density_ridges()`).\n",
      "\n",
      "R[write to console]: Warning:\n",
      "R[write to console]:  Removed 13 rows containing non-finite outside the scale range\n",
      "(`stat_density_ridges()`).\n",
      "\n"
     ]
    },
    {
     "name": "stdout",
     "output_type": "stream",
     "text": [
      "Progress:  Each dot is a curve\n",
      "...\n"
     ]
    }
   ],
   "source": [
    "df = adtnormpy.adtnorm(prot_df,obs=obs,ADT_location=None,exclude_zeroes=True, peak_type = 'mode',\n",
    "                       save_outpath='./ADTnormSave',customize_landmark=True,override_landmark='ADTnormSave/CSV',marker_to_process= 'CD3',\n",
    "                       save_landmark=True,clean_adt_name=True)"
   ]
  },
  {
   "cell_type": "code",
   "execution_count": null,
   "id": "657102f6-40e4-4084-a88f-1599604054c4",
   "metadata": {},
   "outputs": [],
   "source": []
  }
 ],
 "metadata": {
  "kernelspec": {
   "display_name": "ADTnormPy",
   "language": "python",
   "name": "adtnormpy"
  },
  "language_info": {
   "codemirror_mode": {
    "name": "ipython",
    "version": 3
   },
   "file_extension": ".py",
   "mimetype": "text/x-python",
   "name": "python",
   "nbconvert_exporter": "python",
   "pygments_lexer": "ipython3",
   "version": "3.12.2"
  },
  "toc-autonumbering": true,
  "toc-showmarkdowntxt": true,
  "toc-showtags": false,
  "widgets": {
   "application/vnd.jupyter.widget-state+json": {
    "state": {},
    "version_major": 2,
    "version_minor": 0
   }
  }
 },
 "nbformat": 4,
 "nbformat_minor": 5
}
